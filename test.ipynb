{
 "cells": [
  {
   "cell_type": "code",
   "execution_count": 7,
   "id": "1c44448d-bdcd-4432-bf35-100c2e74015b",
   "metadata": {},
   "outputs": [
    {
     "name": "stdout",
     "output_type": "stream",
     "text": [
      "[*********************100%***********************]  32 of 32 completed\n",
      "[*********************100%***********************]  8 of 8 completed\n",
      "Daily most changed sector : \n",
      "                           Open      High       Low     Close    Average  \\\n",
      "Name                                                                      \n",
      "^CNXMETAL              5259.45   5360.20   5235.50   5339.15   5297.850   \n",
      "^CNXAUTO              10672.85  10749.15  10634.90  10735.75  10692.025   \n",
      "^CNXIT                27031.60  27167.50  26914.60  26996.75  27041.050   \n",
      "^CNXENERGY            20402.30  20487.80  20285.75  20368.05  20386.775   \n",
      "NIFTY_FIN_SERVICE.NS  16794.40  16866.30  16677.10  16744.20  16771.700   \n",
      "^CNXPHARMA            14150.25  14156.65  14050.45  14101.55  14103.550   \n",
      "^CNXFMCG              35330.65  35330.65  35092.10  35138.00  35211.375   \n",
      "^NSEBANK              35657.85  35810.90  35176.15  35291.65  35493.525   \n",
      "\n",
      "                      InDay%Change    Diff  \n",
      "Name                                        \n",
      "^CNXMETAL                 1.515368   79.70  \n",
      "^CNXAUTO                  0.589346   62.90  \n",
      "^CNXIT                   -0.128923  -34.85  \n",
      "^CNXENERGY               -0.167873  -34.25  \n",
      "NIFTY_FIN_SERVICE.NS     -0.298909  -50.20  \n",
      "^CNXPHARMA               -0.344164  -48.70  \n",
      "^CNXFMCG                 -0.545277 -192.65  \n",
      "^NSEBANK                 -1.026983 -366.20  \n"
     ]
    }
   ],
   "source": [
    "import tsend\n",
    "import daily_change\n",
    "import indices\n",
    "import pandas as pd\n",
    "a = (\"Daily nifty_next50 change : \\n {}\".format(daily_change.max_daily_change(indices.nifty_next50)))\n",
    "#print(type(a))\n",
    "#print(a)\n",
    "#(\"Daily nifty50 change : \\n {}\".format(daily_change.max_daily_change(indices.nifty50)))\n",
    "\n",
    "\n",
    "print(\"Daily most changed sector : \\n {}\".format(daily_change.max_daily_change(indices.nifty_sectors, add_ns=0)))"
   ]
  },
  {
   "cell_type": "code",
   "execution_count": null,
   "id": "51679399-4062-44b7-a04b-8aa028b927fe",
   "metadata": {},
   "outputs": [],
   "source": []
  }
 ],
 "metadata": {
  "kernelspec": {
   "display_name": "Python 3",
   "language": "python",
   "name": "python3"
  },
  "language_info": {
   "codemirror_mode": {
    "name": "ipython",
    "version": 3
   },
   "file_extension": ".py",
   "mimetype": "text/x-python",
   "name": "python",
   "nbconvert_exporter": "python",
   "pygments_lexer": "ipython3",
   "version": "3.8.2"
  }
 },
 "nbformat": 4,
 "nbformat_minor": 5
}
